{
  "nbformat": 4,
  "nbformat_minor": 0,
  "metadata": {
    "colab": {
      "name": "BOT’NORRIS.ipynb",
      "provenance": [],
      "toc_visible": true,
      "authorship_tag": "ABX9TyPAONWWJEHusSXzyy32Ikx0",
      "include_colab_link": true
    },
    "kernelspec": {
      "name": "python3",
      "display_name": "Python 3"
    }
  },
  "cells": [
    {
      "cell_type": "markdown",
      "metadata": {
        "id": "view-in-github",
        "colab_type": "text"
      },
      "source": [
        "<a href=\"https://colab.research.google.com/github/Jofouda/france-geojson/blob/master/BOT%E2%80%99NORRIS.ipynb\" target=\"_parent\"><img src=\"https://colab.research.google.com/assets/colab-badge.svg\" alt=\"Open In Colab\"/></a>"
      ]
    },
    {
      "cell_type": "markdown",
      "metadata": {
        "id": "k97yfa3rOXxj"
      },
      "source": [
        "**I- Site WEB** : \"*Chuck Norris Jokes and Facts*\"\n"
      ]
    },
    {
      "cell_type": "markdown",
      "metadata": {
        "id": "z6Vf57DBO0oc"
      },
      "source": [
        "**CODE HTML DU SITE**\n",
        "\n",
        "Clic droit et on peut générer le code source de la page  .\n",
        "On peut également sélectionner une des information que l’on souhaite récupérer . \n",
        "\n",
        "\n",
        "(\"view-source:https://chucknorrisfacts.net/facts\")\n"
      ]
    },
    {
      "cell_type": "code",
      "metadata": {
        "colab": {
          "base_uri": "https://localhost:8080/"
        },
        "id": "s_WhqVmTQWdc",
        "outputId": "dd8c08f5-cc8f-43f5-87f3-566f6c26d5b9"
      },
      "source": [
        "import requests\n",
        "url = 'https://chucknorrisfacts.net/facts'\n",
        "response = requests.get(url)     \n",
        "print(response)\n"
      ],
      "execution_count": 4,
      "outputs": [
        {
          "output_type": "stream",
          "text": [
            "<Response [406]>\n"
          ],
          "name": "stdout"
        }
      ]
    },
    {
      "cell_type": "markdown",
      "metadata": {
        "id": "zo-On4QvRD40"
      },
      "source": [
        "**II- Conception bot (script python)**\n",
        "Choix de partie du code html qui nous intéresse.\n",
        "Utilisation de request et BeautifulSoup\n",
        "\n",
        "code de récupération des informations "
      ]
    },
    {
      "cell_type": "code",
      "metadata": {
        "id": "OP16sjhFR_2p"
      },
      "source": [
        "import requests\n",
        "import re\n",
        "from bs4 import BeautifulSoup\n",
        "import psycopg2, config2, random\n",
        "\n",
        "# Code SQL pour PostgreSQL\n",
        "\n",
        "\n",
        "# connection à PG, bdd_jfoudambezele\n",
        "conn = psycopg2.connect(database=\"bdd_jfoudambezele\", user=config2.user,password=config2.password, host='127.0.0.1') \n",
        "cur = conn.cursor()\n",
        "\n",
        "\n",
        "\n",
        "# Traitement de chaque ligne: affichage & enregistrement\n",
        "def traiteInfo(id, rate, vote, fact):\n",
        "    print(\"%4d : %.2f %5d %s\" % (id, rate, vote, fact))\n",
        "    cur.execute(\"\"\"INSERT INTO public.\"BOT_NORRIS\" VALUES (%s, %s) ON CONFLICT DO NOTHING;\"\"\", (id, fact))\n",
        "    cur.execute(\"\"\"INSERT INTO public.\"BOT_NORRISvote\" VALUES (NOW()::Date, %s, %s, %s) ON CONFLICT DO NOTHING;\"\"\", (id, rate, vote))\n",
        "\n",
        "# Definition de la procédure qui traite 1 page\n",
        "def recupPage(page):\n",
        "    url = \"https://chucknorrisfacts.net/facts.php?page=%d\" % (page)\n",
        "    print(\"\\nRécupération de %s\" %(url))\n",
        "    # extraction du document HTML\n",
        "    r = requests.get(url, headers={\"User-Agent\": \"Mon navigateur perso d'ici\"})\n",
        "    # Traitement avec la librairie BS\n",
        "    soup = BeautifulSoup(r.content, 'html.parser')\n",
        "    # Récupération de tous les blocks qui contiennent les info qui nous intéressent.\n",
        "    # Utilisation de soup.select avec un selecteur CSS\n",
        "    blocks = soup.select(\"#content > div:nth-of-type(n+2)\")\n",
        "    #print(blocks[1])\n",
        "    # 2ime boucle sur les block récupérée\n",
        "    for block in blocks: \n",
        "        #~ print(block)\n",
        "        # On récupé les champs individuels (rate, vote, fact)\n",
        "        # On affiche (si fact non vide)\n",
        "        fact = block.select_one(\"p\")\n",
        "        if fact is not None:\n",
        "            id = block.select_one(\"ul.star-rating\").attrs['id']\n",
        "            #print(id)\n",
        "            rate = block.select_one(\"span.out5Class\")\n",
        "            vote = block.select_one(\"span.votesClass\")\n",
        "            \n",
        "            traiteInfo(int(id[6:]), float(rate.text), int(vote.text[:-6]), fact.text)\n",
        "            #~ print(\"------------------------\")\n",
        "    \n",
        "\n",
        "\n",
        "def lastPage():\n",
        "    url = \"https://chucknorrisfacts.net/facts\"\n",
        "    r = requests.get(url, headers={\"User-Agent\": \"Mon navigateur perso d'ici\"})\n",
        "    soup = BeautifulSoup(r.content, 'html.parser')\n",
        "    lastPage = soup.select(\"#content a:link\")\n",
        "    lastPageToStr = str(lastPage[-1].get('href'))\n",
        "    \n",
        "    numPage = re.findall(r'\\d+', lastPageToStr)\n",
        "    \n",
        "    return(int(numPage[0]))\n",
        "\n",
        "\n",
        "for p in range(1, lastPage()):\n",
        "    recupPage(page = p)\n",
        "    time.sleep(0.50)   \n",
        "\n",
        "\n",
        "\n",
        "conn.commit()\n",
        "conn.close()"
      ],
      "execution_count": null,
      "outputs": []
    },
    {
      "cell_type": "markdown",
      "metadata": {
        "id": "c4J4QG0qTsQs"
      },
      "source": [
        "**III-Quelques requêtes**"
      ]
    },
    {
      "cell_type": "code",
      "metadata": {
        "id": "nVnfxKIqTyoX"
      },
      "source": [
        "import psycopg2\n",
        "from sqlalchemy import create_engine\n",
        "import config2\n",
        "import pandas as pd\n",
        "import seaborn as sns\n",
        "import matplotlib.pyplot as plt\n",
        "\n",
        "\n",
        "server = \"127.0.0.1\" \n",
        "BDname=\"bdd_jfoudambezele\" # Nom de la base de donnée\n",
        "alchemyEngine = create_engine('postgresql+psycopg2://' + config2.user + ':' + config2.password + '@' + server + '/' + BDname).connect()\n",
        "\n",
        "dbConnection = alchemyEngine.connect();\n",
        "#afficher la table BOT_NORRISvote\n",
        "sql1 = (\"\"\"SELECT * FROM \"BOT_NORRISvote\" ORDER BY id ASC\"\"\")\n",
        "df1 = pd.read_sql(sql1, dbConnection)\n",
        "print(df1)\n",
        "\n",
        "\n",
        "sql16 = (\"\"\"SELECT \"fact\" FROM \"BOT_NORRIS\" ORDER BY id ASC\"\"\")\n",
        "df16 = pd.read_sql(sql16, dbConnection)\n",
        "print(df16)\n",
        "\n",
        "\n",
        "\n",
        "\n",
        "\n",
        "\n",
        "sql5 = (\"\"\" SELECT AVG(vote) FROM \"BOT_NORRISvote\" \"\"\")\n",
        "df5 = pd.read_sql(sql5, dbConnection)\n",
        "print(df5)\n",
        "\n",
        "\n",
        "sql6 =(\"\"\" SELECT \"fact\" FROM \"BOT_NORRIS\" LEFT JOIN \"BOT_NORRISvote\" ON 'BOT_NORRIS.id'='BOT_NORRISvote.id' \"\"\")\n",
        "df6 = pd.read_sql(sql6, dbConnection)\n",
        "print(df6)\n",
        "\n",
        "\n",
        "\n",
        "\n",
        "sql7 =(\"\"\" SELECT fact, vote FROM \"BOT_NORRIS\" LEFT JOIN \"BOT_NORRISvote\" ON 'BOT_NORRIS.id'='BOT_NORRISvote.id' \"\"\")\n",
        "df7 = pd.read_sql(sql7, dbConnection)\n",
        "print(df7)\n",
        "\n",
        "sql8 =(\"\"\" SELECT MIN(vote) AS Smallestvote FROM \"BOT_NORRISvote\" \"\"\")\n",
        "df8 = pd.read_sql(sql8, dbConnection)\n",
        "print(df8)\n",
        "\n",
        "\n",
        "\n",
        "sql11 =(\"\"\" SELECT MAX(vote) AS Largest FROM \"BOT_NORRISvote\" \"\"\")\n",
        "df11 = pd.read_sql(sql11, dbConnection)\n",
        "print(df11)\n",
        "\n",
        "sql40 = (\"\"\"SELECT id, vote FROM \"BOT_NORRISvote\" WHERE 'vote'<= (SELECT MAX('vote')FROM \"BOT_NORRISvote\")\"\"\")\n",
        "df40 = pd.read_sql(sql40, dbConnection)\n",
        "print(df40)\n",
        "sns.barplot(df40['id'],df40['vote'])\n",
        "\n",
        "\n",
        "\n",
        "sql12 = (\"\"\" SELECT \"vote\" FROM \"BOT_NORRISvote\"  WHERE vote=7468\"\"\")\n",
        "df12 = pd.read_sql(sql12, dbConnection)\n",
        "print(df12)\n",
        "\n",
        "sql13 = (\"\"\" SELECT \"vote\" FROM \"BOT_NORRISvote\"  WHERE vote=5\"\"\")\n",
        "df13 = pd.read_sql(sql13, dbConnection)\n",
        "print(df13)\n",
        "\n",
        "\n",
        "sql14 = (\"\"\" SELECT \"vote\" FROM \"BOT_NORRISvote\"  WHERE vote BETWEEN 5 AND 7468 ORDER BY vote ASC\"\"\")\n",
        "df14 = pd.read_sql(sql14, dbConnection)\n",
        "print(df14)\n",
        "\n",
        "\n",
        "sql15 = (\"\"\" SELECT COUNT(vote) FROM \"BOT_NORRISvote\"  WHERE vote BETWEEN 5 AND 7468 \"\"\")\n",
        "df15 = pd.read_sql(sql15, dbConnection)\n",
        "print(df15)\n",
        "\n",
        "\n",
        "sql9 = (\"\"\" SELECT *FROM \"BOT_NORRISvote\"  WHERE vote= 5  ORDER BY vote ASC \"\"\")\n",
        "df9 = pd.read_sql(sql9, dbConnection)\n",
        "print(df9)\n",
        "\n",
        "sql10 = (\"\"\" SELECT vote, rate FROM \"BOT_NORRISvote\" \"\"\")\n",
        "df10 = pd.read_sql(sql10, dbConnection)\n",
        "print(df10)\n",
        "\n",
        "sql33 = (\"\"\"SELECT   AVG(vote) FROM \"BOT_NORRISvote\" \"\"\")\n",
        "df33 = pd.read_sql(sql33, dbConnection)\n",
        "print(df33)\n",
        "\n",
        "sql34 = \"\"\"SELECT id, AVG(vote) FROM \"BOT_NORRISvote\" GROUP BY id \"\"\"\n",
        "df34 = pd.read_sql(sql34, dbConnection)\n",
        "print(df34)\n",
        "\n",
        "\n",
        "\n",
        "sql26 = (\"\"\"SELECT COUNT(fact) FROM \"BOT_NORRIS\" \"\"\" )\n",
        "df26 = pd.read_sql(sql26, dbConnection)\n",
        "print(df26)\n",
        "\n",
        "sql21 = (\"\"\"SELECT id, rate FROM \"BOT_NORRISvote\"  ORDER BY  rate  ASC\"\"\")\n",
        "df21 = pd.read_sql(sql21, dbConnection)\n",
        "print(df21)\n",
        "\n",
        "\n",
        "\n",
        "sql28 = (\"\"\"SELECT id, fact FROM \"BOT_NORRIS\" WHERE LENGTH(fact) <50\"\"\")\n",
        "df28 = pd.read_sql(sql28, dbConnection)\n",
        "print(df28)\n",
        "\n",
        "sql23 = (\"\"\"SELECT COUNT(fact) FROM \"BOT_NORRIS\" WHERE LENGTH(fact) <50\"\"\")\n",
        "df23 = pd.read_sql(sql23, dbConnection)\n",
        "print(df23)\n",
        "\n",
        "\n",
        "sql27 = (\"\"\"SELECT id, fact FROM \"BOT_NORRIS\" WHERE LENGTH(fact) BETWEEN 50 and 200\"\"\")\n",
        "df27 = pd.read_sql(sql27, dbConnection)\n",
        "print(df27)\n",
        "\n",
        "sql29 = (\"\"\"SELECT COUNT(fact) FROM \"BOT_NORRIS\" WHERE LENGTH(fact) BETWEEN 50 and 200\"\"\")\n",
        "df29 = pd.read_sql(sql29, dbConnection)\n",
        "print(df29)\n",
        "\n",
        "sql24 = (\"\"\"SELECT id, fact FROM \"BOT_NORRIS\" WHERE LENGTH(fact) > 200\"\"\")\n",
        "df24 = pd.read_sql(sql24, dbConnection)\n",
        "print(df24)\n",
        "\n",
        "\n",
        "sql35 = (\"\"\" SELECT MAX(LENGTH(fact)) FROM \"BOT_NORRIS\" \"\"\")\n",
        "df35 = pd.read_sql(sql35, dbConnection)\n",
        "print(df35)\n",
        "\n",
        "sql36 = (\"\"\" SELECT MIN(LENGTH(fact)) FROM \"BOT_NORRIS\" \"\"\")\n",
        "df36 = pd.read_sql(sql36, dbConnection)\n",
        "print(df36)\n",
        "\n",
        "sql37 = (\"\"\" SELECT id, LENGTH(fact) FROM \"BOT_NORRIS\" \"\"\")\n",
        "df37 = pd.read_sql(sql37, dbConnection)\n",
        "print(df37)\n",
        "\n",
        "\n",
        "\n",
        "\n",
        "conn.commit()\n",
        "conn.close()"
      ],
      "execution_count": null,
      "outputs": []
    },
    {
      "cell_type": "markdown",
      "metadata": {
        "id": "D4jJ6EmBUO38"
      },
      "source": [
        "**IV- Quelques Graphiques**"
      ]
    },
    {
      "cell_type": "code",
      "metadata": {
        "id": "MZUcEHcDUUlP"
      },
      "source": [
        "import psycopg2\n",
        "from sqlalchemy import create_engine\n",
        "import config2\n",
        "import pandas as pd\n",
        "import seaborn as sns\n",
        "import matplotlib.pyplot as plt\n",
        "\n",
        "\n",
        "server = \"127.0.0.1\" \n",
        "BDname=\"bdd_jfoudambezele\" # Nom de la base de donnée\n",
        "alchemyEngine = create_engine('postgresql+psycopg2://' + config2.user + ':' + config2.password + '@' + server + '/' + BDname).connect()\n",
        "\n",
        "dbConnection = alchemyEngine.connect();\n",
        "\n",
        "sns.scatterplot(df37['id'], df37['length'])\n",
        "sns.barplot(df37['id'], df37['length'])\n",
        "\n",
        "sns.scatterplot(df34['id'], df34['avg'])\n",
        "sns.barplot(df34['id'], df34['avg'])\n",
        "\n",
        "sns.scatterplot(df10['rate'],df10['vote'])\n",
        "sns.barplot(df10['rate'],df10['vote'])\n",
        "\n",
        "sns.scatterplot(df11['id'],df11['vote'])\n",
        "sns.barplot(df11['id'], df11['vote'])\n",
        "\n",
        "\n",
        "conn.commit()\n",
        "conn.close()\n",
        "\n",
        "\n",
        "\n"
      ],
      "execution_count": null,
      "outputs": []
    },
    {
      "cell_type": "markdown",
      "metadata": {
        "id": "WPhmcb7Ec4_P"
      },
      "source": [
        " Représentations sur les slides pdf."
      ]
    }
  ]
}